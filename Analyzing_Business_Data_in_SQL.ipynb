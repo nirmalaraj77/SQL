{
  "nbformat": 4,
  "nbformat_minor": 0,
  "metadata": {
    "colab": {
      "provenance": [],
      "authorship_tag": "ABX9TyPixvU+MVaS7dXj1lIdrHsR",
      "include_colab_link": true
    },
    "kernelspec": {
      "name": "python3",
      "display_name": "Python 3"
    },
    "language_info": {
      "name": "python"
    }
  },
  "cells": [
    {
      "cell_type": "markdown",
      "metadata": {
        "id": "view-in-github",
        "colab_type": "text"
      },
      "source": [
        "<a href=\"https://colab.research.google.com/github/nirmalaraj77/SQL/blob/main/Analyzing_Business_Data_in_SQL.ipynb\" target=\"_parent\"><img src=\"https://colab.research.google.com/assets/colab-badge.svg\" alt=\"Open In Colab\"/></a>"
      ]
    },
    {
      "cell_type": "code",
      "execution_count": 2,
      "metadata": {
        "id": "PI-bIQnzlHhk"
      },
      "outputs": [],
      "source": [
        "import pandas as pd\n",
        "meals = pd.read_csv(\"https://assets.datacamp.com/production/repositories/4016/datasets/732c094b30a2e794d0b12b12547587a903126f68/meals.csv\")\n",
        "\n",
        "orders = pd.read_csv(\"https://assets.datacamp.com/production/repositories/4016/datasets/606e6e9165c25477db078996fa7e0a3e994b93d3/orders.csv\")\n",
        "\n",
        "stock = pd.read_csv(\"https://assets.datacamp.com/production/repositories/4016/datasets/10d9ad146a85010d836cfc93870aa464951f0640/stock.csv\")"
      ]
    },
    {
      "cell_type": "code",
      "source": [
        "print (meals.head(100), orders.head(100), stock.head(100))"
      ],
      "metadata": {
        "id": "R81Ar8jslSTt",
        "outputId": "052792f3-763f-40b6-a3d9-4cc908f6834e",
        "colab": {
          "base_uri": "https://localhost:8080/"
        }
      },
      "execution_count": 4,
      "outputs": [
        {
          "output_type": "stream",
          "name": "stdout",
          "text": [
            "     0  'Leaning Tower of Pizza'     4     2\n",
            "0    1  'Leaning Tower of Pizza'  3.50  1.25\n",
            "1    2  'Leaning Tower of Pizza'  4.50  1.75\n",
            "2    3  'Leaning Tower of Pizza'  4.00  0.75\n",
            "3    4              'Burgatorio'  6.00  3.25\n",
            "4    5              'Burgatorio'  6.50  4.00\n",
            "5    6              'Burgatorio'  6.25  2.75\n",
            "6    7              'Burgatorio'  5.00  1.25\n",
            "7    8       'Bean Me Up Scotty'  4.50  0.75\n",
            "8    9       'Bean Me Up Scotty'  4.00  1.25\n",
            "9   10       'Bean Me Up Scotty'  5.50  1.50\n",
            "10  11       'Bean Me Up Scotty'  5.75  1.00\n",
            "11  12            'The Moon Wok'  3.75  1.25\n",
            "12  13            'The Moon Wok'  4.75  2.25\n",
            "13  14            'The Moon Wok'  4.50  2.00\n",
            "14  15            'The Moon Wok'  4.25  1.75\n",
            "15  16            'The Moon Wok'  3.00  1.00\n",
            "16  17             'Life of Pie'  3.25  0.50\n",
            "17  18             'Life of Pie'  3.00  0.25\n",
            "18  19             'Life of Pie'  3.75  1.25     2018-06-01   0  0.1   4  3\n",
            "0   2018-06-01   0    0  14  2\n",
            "1   2018-06-01   0    0  15  1\n",
            "2   2018-06-01   0    0  17  1\n",
            "3   2018-06-01   1    1  16  2\n",
            "4   2018-06-01   1    1  17  1\n",
            "..         ...  ..  ...  .. ..\n",
            "95  2018-06-05   3   39  18  3\n",
            "96  2018-06-05  28   40   7  2\n",
            "97  2018-06-05  28   40  10  3\n",
            "98  2018-06-05  28   40  17  1\n",
            "99  2018-06-05  32   41  18  2\n",
            "\n",
            "[100 rows x 5 columns]     2018-06-01  0   76\n",
            "0   2018-06-01  1   42\n",
            "1   2018-06-01  2   56\n",
            "2   2018-06-01  3   74\n",
            "3   2018-06-01  4  100\n",
            "4   2018-06-01  5   63\n",
            "..         ... ..  ...\n",
            "95  2018-11-01  1  712\n",
            "96  2018-11-01  2  717\n",
            "97  2018-11-01  3  724\n",
            "98  2018-11-01  4  704\n",
            "99  2018-11-01  5  739\n",
            "\n",
            "[100 rows x 3 columns]\n"
          ]
        }
      ]
    },
    {
      "cell_type": "code",
      "source": [
        "%load_ext sql\n",
        "%sql sqlite://"
      ],
      "metadata": {
        "id": "6X2WQ3-ZEXvw",
        "outputId": "50b6525f-11d8-4b16-a990-243777fc4dcb",
        "colab": {
          "base_uri": "https://localhost:8080/"
        }
      },
      "execution_count": 7,
      "outputs": [
        {
          "output_type": "stream",
          "name": "stdout",
          "text": [
            "The sql extension is already loaded. To reload it, use:\n",
            "  %reload_ext sql\n"
          ]
        }
      ]
    },
    {
      "cell_type": "code",
      "source": [
        "%%sql\n",
        "DROP TABLE IF EXISTS \"meals\";\n",
        "CREATE TABLE meals (\n",
        "  meal_id INT PRIMARY KEY,\n",
        "  meal_name TEXT\n",
        "  eatery TEXT,\n",
        "  meal_price FLOAT,\n",
        "  meal_cost FLOAT)"
      ],
      "metadata": {
        "id": "9rxVbd-vnYMJ",
        "outputId": "d228a88d-883d-4bac-d0ca-df4b547fd091",
        "colab": {
          "base_uri": "https://localhost:8080/"
        }
      },
      "execution_count": 9,
      "outputs": [
        {
          "output_type": "stream",
          "name": "stdout",
          "text": [
            " * sqlite://\n",
            "Done.\n",
            "Done.\n"
          ]
        },
        {
          "output_type": "execute_result",
          "data": {
            "text/plain": [
              "[]"
            ]
          },
          "metadata": {},
          "execution_count": 9
        }
      ]
    },
    {
      "cell_type": "code",
      "source": [
        "meals_to.sql"
      ],
      "metadata": {
        "id": "4q14M2nIOyET",
        "outputId": "483c9a59-9b48-4e26-934f-53e93d257b90",
        "colab": {
          "base_uri": "https://localhost:8080/",
          "height": 157
        }
      },
      "execution_count": 11,
      "outputs": [
        {
          "output_type": "error",
          "ename": "NameError",
          "evalue": "name 'meals_to' is not defined",
          "traceback": [
            "\u001b[0;31m---------------------------------------------------------------------------\u001b[0m",
            "\u001b[0;31mNameError\u001b[0m                                 Traceback (most recent call last)",
            "\u001b[0;32m<ipython-input-11-fcd20449a820>\u001b[0m in \u001b[0;36m<cell line: 1>\u001b[0;34m()\u001b[0m\n\u001b[0;32m----> 1\u001b[0;31m \u001b[0mmeals_to\u001b[0m\u001b[0;34m.\u001b[0m\u001b[0msql\u001b[0m\u001b[0;34m\u001b[0m\u001b[0;34m\u001b[0m\u001b[0m\n\u001b[0m",
            "\u001b[0;31mNameError\u001b[0m: name 'meals_to' is not defined"
          ]
        }
      ]
    }
  ]
}