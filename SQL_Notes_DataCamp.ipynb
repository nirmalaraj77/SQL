{
  "nbformat": 4,
  "nbformat_minor": 0,
  "metadata": {
    "colab": {
      "provenance": [],
      "authorship_tag": "ABX9TyPfsP8BlB8Jy3mkgRlI5uJl",
      "include_colab_link": true
    },
    "kernelspec": {
      "name": "python3",
      "display_name": "Python 3"
    },
    "language_info": {
      "name": "python"
    }
  },
  "cells": [
    {
      "cell_type": "markdown",
      "metadata": {
        "id": "view-in-github",
        "colab_type": "text"
      },
      "source": [
        "<a href=\"https://colab.research.google.com/github/nirmalaraj77/SQL/blob/main/SQL_Notes_DataCamp.ipynb\" target=\"_parent\"><img src=\"https://colab.research.google.com/assets/colab-badge.svg\" alt=\"Open In Colab\"/></a>"
      ]
    },
    {
      "cell_type": "markdown",
      "source": [
        "#**NOTE**\n",
        "\n",
        "ALTER TABLE books. \n",
        "ALTER COLUMN date_text SET DATA TYPE date. \n",
        "      USING to_date(date_text, 'mm-dd-yyyy');"
      ],
      "metadata": {
        "id": "D38D4MQiMwi7"
      }
    },
    {
      "cell_type": "markdown",
      "source": [
        "#**SQL DATABASES**\n",
        "### - Must have Schema\n",
        "### - Gives Result Set\n",
        "### - SQL Tables must have a Unique Identifier\n",
        "\n"
      ],
      "metadata": {
        "id": "e1VdzKRONjt6"
      }
    },
    {
      "cell_type": "markdown",
      "source": [
        "#**SQL Style Guide**\n",
        "### - New lines, Capitalisation and Indentation not required\n",
        "### - Use Holywell's guide\n",
        "### - Capitalise Keywords\n",
        "### - Underscore filed names\n",
        "### - if no underscore, use inverted commas"
      ],
      "metadata": {
        "id": "RJOKkhjogDsl"
      }
    },
    {
      "cell_type": "markdown",
      "source": [
        "#**Debugging SQL**\n",
        "### - Code not pocessed in written order\n",
        "### - Misspelling\n",
        "### - Incorrect capitalisation\n",
        "### - Incorrect or missing punctuation, comma errors"
      ],
      "metadata": {
        "id": "iPCBB8Dof3nW"
      }
    },
    {
      "cell_type": "markdown",
      "source": [
        "#**SQL Execution Order**\n",
        "\n",
        "### - Written Code\n",
        "SELECT\n",
        "\n",
        "\n",
        "FROM \n",
        "\n",
        "WHERE\n",
        "\n",
        "LIMIT\n",
        "\n",
        "### - Execution Order\n",
        "FROM\n",
        "\n",
        "WHERE\n",
        "\n",
        "SELECT (alias defined here)\n",
        "\n",
        "LIMIT"
      ],
      "metadata": {
        "id": "L9rcOTgEjxx_"
      }
    },
    {
      "cell_type": "markdown",
      "source": [
        "#**SQL DATA TYPES**\n",
        "### - VARCHAR\n",
        "### - INT\n",
        "### - FLOAT\n",
        "### - NUMERIC"
      ],
      "metadata": {
        "id": "VMFE7LmzM-pt"
      }
    },
    {
      "cell_type": "markdown",
      "source": [
        "#**PostgreSQL**\n",
        "### - Free, refers to database system and and associated SQL flavour\n",
        "\n",
        "SELECT id, name\n",
        "\n",
        "FROM employees\n",
        "\n",
        "**LIMIT** 2;\n",
        "\n",
        "\n"
      ],
      "metadata": {
        "id": "VtUA6coVNCBV"
      }
    },
    {
      "cell_type": "markdown",
      "source": [
        "#**SQL Server**\n",
        "### - Paid and free, Microsoft T-SQL flavour\n",
        "\n",
        "SELECT id, name\n",
        "\n",
        "FROM employees\n",
        "\n",
        "**TOP** 2;\n"
      ],
      "metadata": {
        "id": "k9dew8jre1y6"
      }
    },
    {
      "cell_type": "markdown",
      "source": [
        "#**SQL QUERY KEYWORDS**\n",
        "\n",
        "##**SELECT**\n",
        "##**SELECT * (SELECT ALL)**\n",
        "##**SELECT AS (aliasing) E.g. SELECT author AS unique_author**\n",
        "##**FROM**\n",
        "##**LIMIT**\n",
        "\n",
        "### - E.g. \n",
        "SELECT author AS uniquue_author  \n",
        "FROM books  \n",
        "LIMIT 20;\n",
        "\n"
      ],
      "metadata": {
        "id": "pgDH8VkvJeRp"
      }
    },
    {
      "cell_type": "markdown",
      "source": [
        "#**DISTINCT (combines data into unique values in a field)**\n",
        "### - Use DISTINCT on multiple fields by writing DISTINCT once - then list the fields afterward\n",
        "\n",
        "### - E.g. \n",
        "SELECT DISTINCT author  \n",
        "FROM books;\n",
        "\n",
        "### - E.g. \n",
        "SELECT DISTINCT author, genre  \n",
        "FROM books;\n"
      ],
      "metadata": {
        "id": "MiBzw1LwaMEh"
      }
    },
    {
      "cell_type": "markdown",
      "source": [
        "#**VIEW**\n",
        "### - CREATE VIEW AS (virtual table - stores query code)\n",
        "### - View is a virual table that is the result of a saved SQL SELECT statement\n",
        "### - Views update sutomatically\n",
        "### - No result set when creating a view\n",
        "### - Query view (same as table) by selecting FROM the view\n",
        "\n",
        "### - E.g. Create View\n",
        "CREATE VIEW employee_hire_years AS  \n",
        "SELECT id, name, year_hired  \n",
        "FROM employees; \n",
        "\n",
        "\n",
        "### - E.g. Query View\n",
        "SELECT id, name  \n",
        "FROM employee_hire_years;\n"
      ],
      "metadata": {
        "id": "6baQYpuxXt_b"
      }
    },
    {
      "cell_type": "markdown",
      "source": [
        "#**COUNT( )**\n",
        "### - Returns the no. of records with a value in a field\n",
        "### - Can use ALIAS to make result more readable\n",
        "### - Can use with multiple fields\n",
        "### - Count (*) counts records in a table\n",
        "\n",
        "### - E.g. \n",
        "SELECT COUNT (birthdate) AS count_birthdates\n",
        "\n",
        "FROM people;\n",
        "\n",
        "### - E.g. \n",
        "SELECT COUNT (name) AS count_names, COUNT (birthdate) AS count_birthdates  \n",
        "FROM people;\n",
        "\n",
        "### - E.g. \n",
        "SELECT COUNT (*) AS total_records  \n",
        "FROM people;\n",
        "\n",
        "\n",
        "\n"
      ],
      "metadata": {
        "id": "VM5cWJ0Pb0Id"
      }
    },
    {
      "cell_type": "markdown",
      "source": [
        "#**Combine COUNT, DISTINCT to count unique values**\n",
        "\n",
        "### - E.g. \n",
        "\n",
        "SELECT COUNT (DISTINCT bithdate) AS count_disctinct_birthdates  \n",
        "FROM people;"
      ],
      "metadata": {
        "id": "4FzTUVWcfOg9"
      }
    },
    {
      "cell_type": "markdown",
      "source": [
        "#**WHERE**\n",
        "### - Filter SQL Query\n",
        "### - Use Comparision operators >, >=, <, <=, =, <>\n",
        "\n",
        "### - E.g. \n",
        "SELECT title  \n",
        "FROM films  \n",
        "WHERE release_year > 1960;\n",
        "\n",
        "\n",
        "### - Use = for specific (equal to)\n",
        "\n",
        "### - E.g. \n",
        "SELECT title  \n",
        "FROM films  \n",
        "WHERE release_year = 1960;\n",
        "\n",
        "\n",
        "### - Use <> for except specific (not equal to)\n",
        "\n",
        "### - E.g. \n",
        "SELECT title  \n",
        "FROM films  \n",
        "WHERE release_year <> 1960;\n",
        "\n",
        "\n",
        "### - Use '  ' for Strings \n",
        "\n",
        "### - E.g. \n",
        "\n",
        "SELECT title, country  \n",
        "FROM films  \n",
        "WHERE country = 'Japan';\n",
        "\n",
        "\n",
        "\n"
      ],
      "metadata": {
        "id": "WP7VIp6qhzxS"
      }
    },
    {
      "cell_type": "markdown",
      "source": [
        "#**Combine COUNT, WHERE to count unique values**\n",
        "### - E.g. \n",
        "\n",
        "SELECT COUNT (num_votes) AS films_over_1000K_votes  \n",
        "FROM reviews  \n",
        "WHERE num_votes > 100000;\n",
        "\n",
        "\n",
        "### - E.g. \n",
        "SELECT COUNT (language) AS count_spanish  \n",
        "FROM films  \n",
        "WHERE language = 'Spanish'"
      ],
      "metadata": {
        "id": "Uo7tyzkHrhHe"
      }
    },
    {
      "cell_type": "markdown",
      "source": [
        "#**MULTIPLE CRITERA KEYWORDS**\n",
        "##**OR**\n",
        "### - E.g.\n",
        "SELECT *\n",
        "\n",
        "FROM coats\n",
        "\n",
        "WHERE color = 'yellow' OR colour = 'red';\n",
        "##**AND**\n",
        "### - E.g. \n",
        "SELECT *  \n",
        "FROM coats  \n",
        "WHERE color = 'yellow' AND colour = 'red';\n",
        "\n",
        "### - E.g. \n",
        "SELECT *  \n",
        "FROM films  \n",
        "WHERE (language = 'German') AND (release_year > 2000 AND release_year < 2010);\n",
        "\n",
        "\n",
        "\n",
        "##**Combine AND, OR**\n",
        "SELECT title  \n",
        "FROM films  \n",
        "WHERE (release_year = 1994 OR release_year = 1995) AND (certification = 'PG' OR certification = 'R') ;\n",
        "\n",
        "##**Combine BETWEEN, AND**\n",
        "### - Between is inclusive\n",
        "SELECT title  \n",
        "FROM films  \n",
        "WHERE release_year BETWEEN 1994 AND 2000 ;\n",
        "\n",
        "\n",
        "##**Combine BETWEEN, AND, OR**\n",
        "### - Between is inclusive\n",
        "SELECT title  \n",
        "FROM films  \n",
        "WHERE release_year  \n",
        "BETWEEN 1994 AND 2000 AND country ='UK' ;\n",
        "\n",
        "##**Combine WHERE, AND, OR, BETWEEN**\n",
        "### - E.g.\n",
        "SELECT title, release_year  \n",
        "FROM films  \n",
        "WHERE (release_year = 1990 OR release_year = 1999)  \n",
        "AND (language = 'English' OR language = 'Spanish')  \n",
        "AND gross > 2000000; \n",
        "\n",
        "\n",
        "### - E.g.\n",
        "SELECT title, release_year  \n",
        "FROM films  \n",
        "WHERE (release_year BETWEEN 1990 AND 2000)\n",
        "AND budget > 100000000  \n",
        "AND (language = 'Spanish' OR language = 'French');\n",
        "\n",
        "\n"
      ],
      "metadata": {
        "id": "kUyER-awqu2D"
      }
    },
    {
      "cell_type": "markdown",
      "source": [
        "##**IN**\n",
        "### - Combine WHERE,OR\n",
        "\n",
        "### - E.g. (with many OR keywords)\n",
        "SELECT title  \n",
        "FROM films  \n",
        "WHERE release_year = 1920\n",
        "OR release_year = 1930\n",
        "OR release_year = 1940 ;\n",
        "\n",
        "\n",
        "### - E.g. (combine many OR keywords using IN)\n",
        "SELECT title  \n",
        "FROM films  \n",
        "WHERE release_year IN (1920, 1930, 1940)"
      ],
      "metadata": {
        "id": "m1FbOlCotWt5"
      }
    },
    {
      "cell_type": "markdown",
      "source": [],
      "metadata": {
        "id": "ZYQOCkKAtWoe"
      }
    },
    {
      "cell_type": "markdown",
      "source": [
        "#**FILTERING TEXT KEYWORDS**\n",
        "### - Filter pattern rather than specific text string\n",
        "### - Use wildcard as a placeholder\n",
        "### - Case \n",
        "### - Can position wildcard anywhere\n",
        "### - Can use combined\n",
        "\n",
        "\n",
        "##**LIKE**\n",
        "\n",
        "###**% match 0, 1 or many characters**\n",
        "\n",
        "### - E.g. \n",
        "SELECT name  \n",
        "FROM people  \n",
        "WHERE name LIKE 'Ade%';  \n",
        "\n",
        "\n",
        "###**_ match single characters** \n",
        "\n",
        "### - E.g. \n",
        "SELECT name  \n",
        "FROM people  \n",
        "WHERE name LIKE 'Ev_';\n",
        "\n",
        "### - E.g. (find names with third character 't')\n",
        "SELECT name  \n",
        "FROM people  \n",
        "WHERE name LIKE '__t%'\n",
        "\n",
        "\n",
        "##**NOT LIKE**\n",
        "### - E.g. (find names with third character not 't')\n",
        "SELECT name  \n",
        "FROM people  \n",
        "WHERE name NOT LIKE '__t%'\n",
        " \n",
        "\n",
        "### - E.g. \n",
        "SELECT name  \n",
        "FROM people  \n",
        "WHERE name NOT LIKE 'A.%' ;\n",
        "\n",
        "\n",
        "\n"
      ],
      "metadata": {
        "id": "DnXW9PNQXToR"
      }
    },
    {
      "cell_type": "markdown",
      "source": [
        "#**EXERCISE**\n",
        "Count the unique titles from the films database and use the alias provided.  \n",
        "Filter to include only movies with a release_year from 1990 to 1999, inclusive.  \n",
        "Add another filter narrowing your query down to English-language films.  \n",
        "Add a final filter to select only films with 'G', 'PG', 'PG-13' certifications.  \n",
        "\n",
        "<br>\n",
        "\n",
        "-- Count the unique titles  \n",
        "SELECT COUNT (DISTINCT title) AS nineties_english_films_for_teens  \n",
        "FROM films  \n",
        "-- Filter to release_years to between 1990 and 1999  \n",
        "WHERE (release_year BETWEEN 1990 AND 1999)  \n",
        "-- Filter to English-language films  \n",
        "AND language = 'English'  \n",
        "-- Narrow it down to G, PG, and PG-13 certifications  \n",
        "AND (certification IN ('G', 'PG', 'PG-13'));  \n"
      ],
      "metadata": {
        "id": "hJf5q6PWwcxV"
      }
    },
    {
      "cell_type": "markdown",
      "source": [
        "#**NULL VALUES**\n",
        "##**null represents a missing or unknown value**\n",
        "\n",
        "##COUNT (field_name) - includes only non-missing values\n",
        "##COUNT (*) - includes missing values\n",
        "\n",
        "##**IS NULL**\n",
        "### - E.g. \n",
        "SELECT name  \n",
        "FROM people  \n",
        "WHERE birthdate IS NULL ;  \n",
        "\n",
        "### - E.g. \n",
        "SELECT COUNT (*) AS no_birthdates    \n",
        "FROM people  \n",
        "WHERE birthdate IS NULL ;  \n",
        "\n",
        "##**IS NOT NULL**\n",
        "### - E.g. \n",
        "SELECT COUNT (*) AS count_bithdates   \n",
        "FROM people  \n",
        "WHERE birthdate IS NOT NULL ;  \n",
        "\n",
        "##**COUNT () vs IS NOT NULL gives same results as both count non-missing values**\n",
        "\n",
        "### - E.g. (COUNT)\n",
        "SELECT COUNT (certification)  \n",
        "AS count_certification    \n",
        "FROM films :\n",
        "\n",
        "### - E.g. (using IS NOT NULL with WHERE clause)\n",
        "SELECT COUNT (certification)  \n",
        "AS count_certification  \n",
        "FROM films  \n",
        "WHERE certification IS NOT NULL ; \n",
        "\n"
      ],
      "metadata": {
        "id": "H5_vT3iXyXMx"
      }
    },
    {
      "cell_type": "markdown",
      "source": [
        "#**AGGREGATE FUNCTIONS**\n",
        "### - Data summarised with function name ON COLUMNS\n",
        "### - Use Aliasing\n",
        "\n",
        "##**AVG ( )**\n",
        "\n",
        "##**SUM ( )**\n",
        "\n",
        "##**MIN ( )**\n",
        "\n",
        "##**MAX ( )**\n",
        "\n",
        "##**COUNT ( )**\n",
        "\n",
        "### - E.g. (Mathematical)\n",
        "SELECT SUM (budget)  \n",
        "FROM films ;\n",
        "\n",
        "### - E.g. (non-Mathematical)\n",
        "SELECT MIN (country)  \n",
        "FROM films ;\n"
      ],
      "metadata": {
        "id": "eKy_TozkIW2T"
      }
    },
    {
      "cell_type": "markdown",
      "source": [
        "#**USE WHERE WITH AGGREGATE FUNCTIONS**\n",
        "\n",
        "### - E.g. \n",
        "SELECT AVG (budget) AS avg_budget  \n",
        "FROM films  \n",
        "WHERE release_year >= 2000 ;\n",
        "\n",
        "\n"
      ],
      "metadata": {
        "id": "fu_KJOHXORE6"
      }
    },
    {
      "cell_type": "markdown",
      "source": [
        "#**ROUND ( )**\n",
        "### - Round has 2 parameters, number_to_round and decimal_places (optional - default 0)\n",
        "### - Can use negative to round before decimal point\n",
        "\n",
        "### - E.g.\n",
        "SELECT ROUND (AVG (budget), 2) AS avg_budget  \n",
        "FROM films  \n",
        "WHERE release_year >= 2010;"
      ],
      "metadata": {
        "id": "fZ3Bbjt0QLZb"
      }
    },
    {
      "cell_type": "markdown",
      "source": [
        "#**ARITHMETIC and ALIASING**\n",
        "### - Data calculated on Fields\n",
        "### - Can Use Arithmetic Operators\n",
        "### - Always use alias\n",
        "\n",
        "### - E.g.\n",
        "SELECT (1 + 1)  \n",
        "SELECT (3 - 1)  \n",
        "SELECT (3 * 4)  \n",
        "SELECT (4 / 3 ) *answer is 1 (int)*  \n",
        "SELECT (4.0 / 3.0) *use floats for precise answers*\n",
        "\n"
      ],
      "metadata": {
        "id": "D_bzCNCLUErc"
      }
    }
  ]
}