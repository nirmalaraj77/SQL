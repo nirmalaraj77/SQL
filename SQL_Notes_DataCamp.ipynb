{
  "nbformat": 4,
  "nbformat_minor": 0,
  "metadata": {
    "colab": {
      "provenance": [],
      "authorship_tag": "ABX9TyPB4Ynd96W3jWBbm/D9BGXz",
      "include_colab_link": true
    },
    "kernelspec": {
      "name": "python3",
      "display_name": "Python 3"
    },
    "language_info": {
      "name": "python"
    }
  },
  "cells": [
    {
      "cell_type": "markdown",
      "metadata": {
        "id": "view-in-github",
        "colab_type": "text"
      },
      "source": [
        "<a href=\"https://colab.research.google.com/github/nirmalaraj77/SQL/blob/main/SQL_Notes_DataCamp.ipynb\" target=\"_parent\"><img src=\"https://colab.research.google.com/assets/colab-badge.svg\" alt=\"Open In Colab\"/></a>"
      ]
    },
    {
      "cell_type": "markdown",
      "source": [
        "#**SQL DATABASES**\n",
        "### - Schema\n",
        "### - Result Set\n",
        "### - SQL Tables must have a Unique Identifier"
      ],
      "metadata": {
        "id": "e1VdzKRONjt6"
      }
    },
    {
      "cell_type": "markdown",
      "source": [
        "#**SQL DATA TYPES**\n",
        "### - VARCHAR\n",
        "### - INT\n",
        "### - FLOAT\n",
        "### - NUMERIC"
      ],
      "metadata": {
        "id": "VMFE7LmzM-pt"
      }
    },
    {
      "cell_type": "markdown",
      "source": [
        "#**SQL FLAVOURS**\n",
        "##PostgreSQL - Free, refers to database system and and associated SQL flavour\n",
        "SELECT id, name\n",
        "FROM employees\n",
        "**LIMIT** 2;\n",
        "\n",
        "##SQL Server - Paid and free, Microsoft T-SQL flavour\n",
        "SELECT id, name\n",
        "FROM employees\n",
        "**TOP** 2;\n",
        "\n"
      ],
      "metadata": {
        "id": "VtUA6coVNCBV"
      }
    },
    {
      "cell_type": "markdown",
      "source": [
        "#**SQL QUERY KEYWORDS**\n",
        "\n",
        "### - SELECT\n",
        "### - SELECT *\n",
        "### - SELECT AS (aliasing) E.g. SELECT author AS unique_author...\n",
        "### - FROM\n",
        "### - LIMIT\n",
        "\n"
      ],
      "metadata": {
        "id": "pgDH8VkvJeRp"
      }
    },
    {
      "cell_type": "markdown",
      "source": [
        "#**DISTINCT (combines data into unique values in a field)**\n",
        "### - Use DISTINCT on multiple fields by writing DISTINCT once —then list the fields afterward"
      ],
      "metadata": {
        "id": "MiBzw1LwaMEh"
      }
    },
    {
      "cell_type": "markdown",
      "source": [
        "#**VIEW**\n",
        "### - CREATE VIEW AS (virtual table - stores query code)\n",
        "### - View is a virual table that is the result of a saved SQL SELECT statement\n",
        "### - Views update sutomatically\n",
        " \n",
        "CREATE VIEW employee_hire_years AS\n",
        "\n",
        "SELECT id, name, year_hired\n",
        "\n",
        "FROM employees; \n",
        "\n",
        "### - No result set when creating a view\n",
        "### - Once view is created, query view (same as table) by selecting FROM the view\n",
        "### - E.g.\n",
        "\n",
        "SELECT id, name\n",
        "\n",
        "FROM employee_hire_years;\n"
      ],
      "metadata": {
        "id": "6baQYpuxXt_b"
      }
    },
    {
      "cell_type": "markdown",
      "source": [
        "#**COUNT( )**\n",
        "### - Returns the no. of records with a value in a field\n",
        "### - Can use ALIAS to make result more readable\n",
        "SELECT COUNT (birthdate) AS count_birthdates\n",
        "\n",
        "FROM people;\n",
        "\n",
        "### - Can use with multiple fields\n",
        "SELECT COUNT (name) AS count_names, COUNT (birthdate) AS count_birthdates\n",
        "\n",
        "FROM people;\n",
        "\n",
        "### - Count (*) counts records in a table\n",
        "SELECT COUNT (*) AS total_records\n",
        "\n",
        "FROM people;\n",
        "\n",
        "### - Combine COUNT with DISTINCT to count unique values\n",
        "SELECT COUNT (DISTINCT bithdate) AS count_disctinct_birthdates\n",
        "\n",
        "FROM people;\n",
        "\n"
      ],
      "metadata": {
        "id": "VM5cWJ0Pb0Id"
      }
    }
  ]
}