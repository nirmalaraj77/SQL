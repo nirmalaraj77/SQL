{
  "nbformat": 4,
  "nbformat_minor": 0,
  "metadata": {
    "colab": {
      "provenance": [],
      "authorship_tag": "ABX9TyMdhqRP32ljn4QcJ4SOP0GU",
      "include_colab_link": true
    },
    "kernelspec": {
      "name": "python3",
      "display_name": "Python 3"
    },
    "language_info": {
      "name": "python"
    }
  },
  "cells": [
    {
      "cell_type": "markdown",
      "metadata": {
        "id": "view-in-github",
        "colab_type": "text"
      },
      "source": [
        "<a href=\"https://colab.research.google.com/github/nirmalaraj77/SQL/blob/main/SQL_Notes_DataCamp.ipynb\" target=\"_parent\"><img src=\"https://colab.research.google.com/assets/colab-badge.svg\" alt=\"Open In Colab\"/></a>"
      ]
    },
    {
      "cell_type": "markdown",
      "source": [
        "#**SQL DATABASES**\n",
        "### - Must have Schema\n",
        "### - Gives Result Set\n",
        "### - SQL Tables must have a Unique Identifier\n",
        "\n"
      ],
      "metadata": {
        "id": "e1VdzKRONjt6"
      }
    },
    {
      "cell_type": "markdown",
      "source": [
        "#**SQL Style Guide**\n",
        "### - New lines, Capitalisation and Indentation not required\n",
        "### - Use Holywell's guide\n",
        "### - Capitalise Keywords\n",
        "### - Underscore filed names\n",
        "### - if no underscore, use inverted commas"
      ],
      "metadata": {
        "id": "RJOKkhjogDsl"
      }
    },
    {
      "cell_type": "markdown",
      "source": [
        "#**Debugging SQL**\n",
        "### - Code not pocessed in written order\n",
        "### - Misspelling\n",
        "### - Incorrect capitalisation\n",
        "### - Incorrect or missing punctuation, comma errors"
      ],
      "metadata": {
        "id": "iPCBB8Dof3nW"
      }
    },
    {
      "cell_type": "markdown",
      "source": [
        "#**SQL Execution Order**\n",
        "\n",
        "### - Written Code\n",
        "SELECT\n",
        "\n",
        "\n",
        "FROM \n",
        "\n",
        "WHERE\n",
        "\n",
        "LIMIT\n",
        "\n",
        "### - Execution Order\n",
        "FROM\n",
        "\n",
        "WHERE\n",
        "\n",
        "SELECT\n",
        "\n",
        "LIMIT"
      ],
      "metadata": {
        "id": "L9rcOTgEjxx_"
      }
    },
    {
      "cell_type": "markdown",
      "source": [
        "#**SQL DATA TYPES**\n",
        "### - VARCHAR\n",
        "### - INT\n",
        "### - FLOAT\n",
        "### - NUMERIC"
      ],
      "metadata": {
        "id": "VMFE7LmzM-pt"
      }
    },
    {
      "cell_type": "markdown",
      "source": [
        "#**PostgreSQL**\n",
        "### - Free, refers to database system and and associated SQL flavour\n",
        "\n",
        "SELECT id, name\n",
        "\n",
        "FROM employees\n",
        "\n",
        "**LIMIT** 2;\n",
        "\n",
        "\n"
      ],
      "metadata": {
        "id": "VtUA6coVNCBV"
      }
    },
    {
      "cell_type": "markdown",
      "source": [
        "#**SQL Server**\n",
        "### - Paid and free, Microsoft T-SQL flavour\n",
        "\n",
        "SELECT id, name\n",
        "\n",
        "FROM employees\n",
        "\n",
        "**TOP** 2;\n"
      ],
      "metadata": {
        "id": "k9dew8jre1y6"
      }
    },
    {
      "cell_type": "markdown",
      "source": [
        "#**SQL QUERY KEYWORDS**\n",
        "\n",
        "##**SELECT**\n",
        "##**SELECT * (SELECT ALL)**\n",
        "##**SELECT AS (aliasing) E.g. SELECT author AS unique_author**\n",
        "##**FROM**\n",
        "##**LIMIT**\n",
        "\n",
        "### - E.g. \n",
        "SELECT author AS uniquue_author  \n",
        "FROM books  \n",
        "LIMIT 20;\n",
        "\n"
      ],
      "metadata": {
        "id": "pgDH8VkvJeRp"
      }
    },
    {
      "cell_type": "markdown",
      "source": [
        "#**DISTINCT (combines data into unique values in a field)**\n",
        "### - Use DISTINCT on multiple fields by writing DISTINCT once - then list the fields afterward\n",
        "\n",
        "### - E.g. \n",
        "SELECT DISTINCT author  \n",
        "FROM books;\n",
        "\n",
        "### - E.g. \n",
        "SELECT DISTINCT author, genre  \n",
        "FROM books;\n"
      ],
      "metadata": {
        "id": "MiBzw1LwaMEh"
      }
    },
    {
      "cell_type": "markdown",
      "source": [
        "#**VIEW**\n",
        "### - CREATE VIEW AS (virtual table - stores query code)\n",
        "### - View is a virual table that is the result of a saved SQL SELECT statement\n",
        "### - Views update sutomatically\n",
        "### - No result set when creating a view\n",
        "### - Query view (same as table) by selecting FROM the view\n",
        "\n",
        "### - E.g. Create View\n",
        "CREATE VIEW employee_hire_years AS  \n",
        "SELECT id, name, year_hired  \n",
        "FROM employees; \n",
        "\n",
        "\n",
        "### - E.g. Query View\n",
        "SELECT id, name  \n",
        "FROM employee_hire_years;\n"
      ],
      "metadata": {
        "id": "6baQYpuxXt_b"
      }
    },
    {
      "cell_type": "markdown",
      "source": [
        "#**COUNT( )**\n",
        "### - Returns the no. of records with a value in a field\n",
        "### - Can use ALIAS to make result more readable\n",
        "### - Can use with multiple fields\n",
        "### - Count (*) counts records in a table\n",
        "\n",
        "### - E.g. \n",
        "SELECT COUNT (birthdate) AS count_birthdates\n",
        "\n",
        "FROM people;\n",
        "\n",
        "### - E.g. \n",
        "SELECT COUNT (name) AS count_names, COUNT (birthdate) AS count_birthdates  \n",
        "FROM people;\n",
        "\n",
        "### - E.g. \n",
        "SELECT COUNT (*) AS total_records  \n",
        "FROM people;\n",
        "\n",
        "\n",
        "\n"
      ],
      "metadata": {
        "id": "VM5cWJ0Pb0Id"
      }
    },
    {
      "cell_type": "markdown",
      "source": [
        "#**Combine COUNT, DISTINCT to count unique values**\n",
        "\n",
        "### - E.g. \n",
        "\n",
        "SELECT COUNT (DISTINCT bithdate) AS count_disctinct_birthdates  \n",
        "FROM people;"
      ],
      "metadata": {
        "id": "4FzTUVWcfOg9"
      }
    },
    {
      "cell_type": "markdown",
      "source": [
        "#**WHERE**\n",
        "### - Filter SQL Query\n",
        "### - Use Comparision operators >, >=, <, <=, =, <>\n",
        "\n",
        "### - E.g. \n",
        "SELECT title  \n",
        "FROM films  \n",
        "WHERE release_year > 1960;\n",
        "\n",
        "\n",
        "### - Use = for specific (equal to)\n",
        "\n",
        "### - E.g. \n",
        "SELECT title  \n",
        "FROM films  \n",
        "WHERE release_year = 1960;\n",
        "\n",
        "\n",
        "### - Use <> for except specific (not equal to)\n",
        "\n",
        "### - E.g. \n",
        "SELECT title  \n",
        "FROM films  \n",
        "WHERE release_year <> 1960;\n",
        "\n",
        "\n",
        "### - Use '  ' for Strings \n",
        "\n",
        "### - E.g. \n",
        "\n",
        "SELECT title, country  \n",
        "FROM films  \n",
        "WHERE country = 'Japan';\n",
        "\n",
        "\n",
        "\n"
      ],
      "metadata": {
        "id": "WP7VIp6qhzxS"
      }
    },
    {
      "cell_type": "markdown",
      "source": [
        "#**Combine COUNT, WHERE to count unique values**\n",
        "### - E.g. \n",
        "\n",
        "SELECT COUNT (num_votes) AS films_over_1000K_votes  \n",
        "FROM reviews  \n",
        "WHERE num_votes > 100000;\n",
        "\n",
        "\n",
        "### - E.g. \n",
        "SELECT COUNT (language) AS count_spanish  \n",
        "FROM films  \n",
        "WHERE language = 'Spanish'"
      ],
      "metadata": {
        "id": "Uo7tyzkHrhHe"
      }
    },
    {
      "cell_type": "markdown",
      "source": [
        "#**MULTIPLE CRITERA KEYWORDS**\n",
        "##**OR**\n",
        "### - E.g.\n",
        "SELECT *\n",
        "\n",
        "FROM coats\n",
        "\n",
        "WHERE color = 'yellow' OR colour = 'red';\n",
        "##**AND**\n",
        "### - E.g. \n",
        "SELECT *\n",
        "\n",
        "FROM coats\n",
        "\n",
        "WHERE color = 'yellow' AND colour = 'red';\n",
        "\n",
        "### - E.g. \n",
        "SELECT *\n",
        "\n",
        "FROM films\n",
        "\n",
        "WHERE (language = 'German') AND (release_year > 2000 AND release_year < 2010);\n",
        "\n",
        "\n",
        "\n",
        "##**Combine AND, OR**\n",
        "SELECT title\n",
        "\n",
        "FROM films\n",
        "\n",
        "WHERE (release_year = 1994 OR release_year = 1995) AND (certification = 'PG' OR certification = 'R') ;\n",
        "\n",
        "##**Combine BETWEEN, AND**\n",
        "### - Between is inclusive\n",
        "SELECT title\n",
        "\n",
        "FROM films\n",
        "\n",
        "WHERE release_year BETWEEN 1994 AND 2000 ;\n",
        "\n",
        "\n",
        "##**Combine BETWEEN, AND, OR**\n",
        "### - Between is inclusive\n",
        "SELECT title\n",
        "\n",
        "FROM films\n",
        "\n",
        "WHERE release_year \n",
        "\n",
        "BETWEEN 1994 AND 2000 AND country ='UK' ;\n",
        "\n",
        "##**Combine WHERE, AND, OR, BETWEEN**\n",
        "### - E.g.\n",
        "SELECT title, release_year\n",
        "\n",
        "FROM films\n",
        "\n",
        "WHERE (release_year = 1990 OR release_year = 1999)\n",
        "\n",
        "AND (language = 'English' OR language = 'Spanish')\n",
        "\n",
        "AND gross > 2000000; \n",
        "\n",
        "\n",
        "### - E.g.\n",
        "SELECT title, release_year\n",
        "\n",
        "FROM films\n",
        "\n",
        "WHERE (release_year BETWEEN 1990 AND 2000)\n",
        "\n",
        "AND budget > 100000000\n",
        "\n",
        "AND (language = 'Spanish' OR language = 'French');\n",
        "\n",
        "\n"
      ],
      "metadata": {
        "id": "kUyER-awqu2D"
      }
    },
    {
      "cell_type": "markdown",
      "source": [
        "#**FILTERING TEXT KEYWORDS**\n",
        "### - Filter pattern rather than specific text string\n",
        "### - Use wildcard as a placeholder\n",
        "\n",
        "\n",
        "##**LIKE**\n",
        "\n",
        "###**% match 0, 1 or many characters**\n",
        "### - E.g. \n",
        "\n",
        "SELECT name\n",
        "\n",
        "FROM people\n",
        "\n",
        "WHERE name LIKE 'Ade%';\n",
        "\n",
        "\n",
        "###**_ match single characters** \n",
        "### - E.g. \n",
        "SELECT name  \n",
        "FROM people  \n",
        "WHERE name LIKE 'Ev_';\n",
        "\n",
        "\n",
        "\n",
        "##**NOT LIKE**\n",
        "\n",
        "\n",
        "##**IN**"
      ],
      "metadata": {
        "id": "DnXW9PNQXToR"
      }
    }
  ]
}