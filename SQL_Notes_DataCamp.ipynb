{
  "nbformat": 4,
  "nbformat_minor": 0,
  "metadata": {
    "colab": {
      "provenance": [],
      "authorship_tag": "ABX9TyP4Wpp0dpIAbgjBpA/fayA+",
      "include_colab_link": true
    },
    "kernelspec": {
      "name": "python3",
      "display_name": "Python 3"
    },
    "language_info": {
      "name": "python"
    }
  },
  "cells": [
    {
      "cell_type": "markdown",
      "metadata": {
        "id": "view-in-github",
        "colab_type": "text"
      },
      "source": [
        "<a href=\"https://colab.research.google.com/github/nirmalaraj77/SQL/blob/main/SQL_Notes_DataCamp.ipynb\" target=\"_parent\"><img src=\"https://colab.research.google.com/assets/colab-badge.svg\" alt=\"Open In Colab\"/></a>"
      ]
    },
    {
      "cell_type": "markdown",
      "source": [
        "#**SQL DATABASES**\n",
        "### - Schema\n",
        "### - Result Set"
      ],
      "metadata": {
        "id": "e1VdzKRONjt6"
      }
    },
    {
      "cell_type": "markdown",
      "source": [
        "#**SQL QUERY KEYWORDS**\n",
        "\n",
        "### - SELECT\n",
        "### - SELECT *\n",
        "### - SELECT AS (aliasing) E.g. SELECT author AS unique_author...\n",
        "### - FROM\n",
        "\n"
      ],
      "metadata": {
        "id": "pgDH8VkvJeRp"
      }
    },
    {
      "cell_type": "markdown",
      "source": [
        "#**DISTINCT (combines data into unique values in a field)**\n",
        "### - Use DISTINCT on multiple fields by writing DISTINCT once —then list the fields afterward"
      ],
      "metadata": {
        "id": "MiBzw1LwaMEh"
      }
    },
    {
      "cell_type": "markdown",
      "source": [
        "#**VIEW**\n",
        "### - CREATE VIEW AS (virtual table - stores query code)\n",
        "### - View is a virual table that is the result of a saved SQL SELECT statement\n",
        "### - Views update sutomatically\n",
        " \n",
        "CREATE VIEW employee_hire_years AS\n",
        "\n",
        "SELECT id, name, year_hired\n",
        "\n",
        "FROM employees; \n",
        "\n",
        "### - No result set when creating a view\n",
        "### - Once view is created, query view (same as table) by selecting FROM the view\n",
        "### - E.g.\n",
        "\n",
        "SELECT id, name\n",
        "\n",
        "FROM employee_hire_years;\n"
      ],
      "metadata": {
        "id": "6baQYpuxXt_b"
      }
    },
    {
      "cell_type": "markdown",
      "source": [
        "#**SQL TABLES**\n",
        "### - Unique Identifier"
      ],
      "metadata": {
        "id": "LtiVoOiTNFCB"
      }
    },
    {
      "cell_type": "markdown",
      "source": [
        "#**SQL DATA TYPES**\n",
        "### - VARCHAR\n",
        "### - INT\n",
        "### - FLOAT\n",
        "### - NUMERIC"
      ],
      "metadata": {
        "id": "VMFE7LmzM-pt"
      }
    },
    {
      "cell_type": "markdown",
      "source": [
        "#**SQL FLAVOURS**\n",
        "### - PostgreSQL - Free, refers to dtabase system and and associated SQL flavour\n",
        "### - SQL Server - Paid and free, Microsoft T-SQL flavour\n"
      ],
      "metadata": {
        "id": "VtUA6coVNCBV"
      }
    }
  ]
}